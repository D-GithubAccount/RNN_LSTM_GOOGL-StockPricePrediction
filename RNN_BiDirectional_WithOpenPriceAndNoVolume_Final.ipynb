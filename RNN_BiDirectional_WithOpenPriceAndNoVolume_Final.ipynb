{
  "nbformat": 4,
  "nbformat_minor": 0,
  "metadata": {
    "colab": {
      "name": "RNN_BiDirectional_WithOpenPriceAndNoVolume_Final.ipynb",
      "provenance": [],
      "collapsed_sections": []
    },
    "kernelspec": {
      "name": "python3",
      "display_name": "Python 3"
    },
    "accelerator": "GPU"
  },
  "cells": [
    {
      "cell_type": "code",
      "metadata": {
        "id": "Fd_Qvv3TvZ98",
        "outputId": "429831e7-cc1f-4b17-b4f2-6ddf677f74d6",
        "colab": {
          "base_uri": "https://localhost:8080/",
          "height": 36
        }
      },
      "source": [
        "'''from google.colab import drive\n",
        "drive.mount('/content/gdrive')\n",
        "'''"
      ],
      "execution_count": 1,
      "outputs": [
        {
          "output_type": "execute_result",
          "data": {
            "application/vnd.google.colaboratory.intrinsic+json": {
              "type": "string"
            },
            "text/plain": [
              "\"from google.colab import drive\\ndrive.mount('/content/gdrive')\\n\""
            ]
          },
          "metadata": {
            "tags": []
          },
          "execution_count": 1
        }
      ]
    },
    {
      "cell_type": "code",
      "metadata": {
        "id": "n_W1CVmcve1v"
      },
      "source": [
        "import numpy as np\n",
        "import tensorflow as tf\n",
        "from tensorflow import keras\n",
        "import pandas as pd\n",
        "import seaborn as sns\n",
        "from pylab import rcParams\n",
        "import matplotlib.pyplot as plt\n",
        "from matplotlib import rc\n",
        "from sklearn.model_selection import train_test_split\n",
        "from pandas.plotting import register_matplotlib_converters\n",
        "from keras import optimizers\n",
        "%matplotlib inline\n",
        "%config InlineBackend.figure_format='retina'\n",
        "\n",
        "register_matplotlib_converters()\n",
        "sns.set(style='whitegrid', palette='muted', font_scale=1.5)\n",
        "\n",
        "rcParams['figure.figsize'] = 22, 10\n",
        "\n",
        "RANDOM_SEED = 42\n",
        "\n",
        "np.random.seed(RANDOM_SEED)\n",
        "tf.random.set_seed(RANDOM_SEED)\n"
      ],
      "execution_count": null,
      "outputs": []
    },
    {
      "cell_type": "code",
      "metadata": {
        "id": "gXayb9OIv1TR"
      },
      "source": [
        "'''df = pd.read_csv(\n",
        "  \"gdrive/My Drive/Data Files/Google_Stock_Price_Train.csv\", \n",
        "  parse_dates=True, \n",
        "  index_col=0\n",
        ")\n",
        "df.head()\n",
        "'''\n",
        "\n",
        "df = pd.read_csv(\n",
        "  \"https://raw.githubusercontent.com/D-GithubAccount/RNN_LSTM_GOOGL-StockPricePrediction/main/Google_Stock_Price_Train.csv\", \n",
        "  parse_dates=True, \n",
        "  index_col=0\n",
        ")\n",
        "df.head()\n"
      ],
      "execution_count": null,
      "outputs": []
    },
    {
      "cell_type": "code",
      "metadata": {
        "id": "KECJGn9l_gBw"
      },
      "source": [
        "#url = 'gdrive/My Drive/Data Files/Google_Stock_Price_Test.csv'\n",
        "url = 'https://raw.githubusercontent.com/D-GithubAccount/RNN_LSTM_GOOGL-StockPricePrediction/main/Google_Stock_Price_Test.csv'\n",
        "test_data = pd.read_csv(url,parse_dates = True,index_col=0)\n",
        "test_data.head()"
      ],
      "execution_count": null,
      "outputs": []
    },
    {
      "cell_type": "code",
      "metadata": {
        "id": "SQkG8BhRKuvp"
      },
      "source": [
        "train_size = int(len(df))\n",
        "test_size = int(len(test_data))\n",
        "train, test = df.iloc[0:train_size], test_data.iloc[0:len(test_data)]\n",
        "print(len(train), len(test))"
      ],
      "execution_count": null,
      "outputs": []
    },
    {
      "cell_type": "code",
      "metadata": {
        "id": "9iaTVyebPtln"
      },
      "source": [
        "# Select features (columns) to be involved intro training and predictions\n",
        "cols = list(train)[0:5]\n",
        "print(cols)"
      ],
      "execution_count": null,
      "outputs": []
    },
    {
      "cell_type": "code",
      "metadata": {
        "id": "4TPA7uMWLe__"
      },
      "source": [
        "train = train.astype(str)\n",
        "\n",
        "test = test.astype(str)\n",
        "\n",
        "for i in cols:\n",
        "    for j in range(0, len(train)):\n",
        "        train[i][j] = train[i][j].replace(',', '')\n",
        "\n",
        "\n",
        "for i in cols:\n",
        "    for j in range(0, len(test)):\n",
        "        test[i][j] = test[i][j].replace(',', '')\n",
        "        \n",
        "\n",
        "train = train.astype(float)\n",
        "test= test.astype(float)"
      ],
      "execution_count": null,
      "outputs": []
    },
    {
      "cell_type": "code",
      "metadata": {
        "id": "D75FMQcPcX6W"
      },
      "source": [
        "train_df = train"
      ],
      "execution_count": null,
      "outputs": []
    },
    {
      "cell_type": "code",
      "metadata": {
        "id": "E7AbpffqcX2c"
      },
      "source": [
        "train_df['Timestep'] = np.arange(start = 1, stop = len(train_df) + 1 , step = 1 )\n",
        "\n",
        "# Melt the data to have all the prices in a single column\n",
        "training_melt_df = pd.melt(train_df[['Timestep','Open','High','Low','Close']],id_vars= ['Timestep'],value_vars=['Open','High','Low','Close'])\n",
        "training_melt_df = training_melt_df.rename(columns = {'variable':'Stock price'})"
      ],
      "execution_count": null,
      "outputs": []
    },
    {
      "cell_type": "code",
      "metadata": {
        "id": "3VdzuCNHcZ8S"
      },
      "source": [
        "import seaborn as sns\n",
        "\n",
        "ax1 = sns.lineplot(x=\"Timestep\", y=\"value\", hue=\"Stock price\",linewidth=1,data=training_melt_df).set(ylabel='price')\n",
        "plt.show()"
      ],
      "execution_count": null,
      "outputs": []
    },
    {
      "cell_type": "code",
      "metadata": {
        "id": "3bRyn_sgcZ5O"
      },
      "source": [
        "# Divide by 2.002, for split share going from 1000 to 2002\n",
        "train['Close'] = np.where(train['High'] < train['Close'], train['Close'] / 2.002, train['Close'])\n",
        "\n",
        "# Replacing Close price if above High or below Low\n",
        "train['Close'] = np.where(train['High'] < train['Close'], train['High'], train['Close'])\n",
        "train['Close'] = np.where(train['Low'] > train['Close'], train['Low'], train['Close'])"
      ],
      "execution_count": null,
      "outputs": []
    },
    {
      "cell_type": "code",
      "metadata": {
        "id": "5YGHSCaocdNG"
      },
      "source": [
        "# Melt the data to have all the prices\n",
        "training_melt_df = pd.melt(train[['Timestep','Open','High','Low','Close']],id_vars= ['Timestep'],value_vars=['Open','High','Low','Close'])\n",
        "training_melt_df = training_melt_df.rename(columns = {'variable':'Stock price'})\n",
        "\n",
        "#lineplot with the prices\n",
        "ax1 = sns.lineplot(x=\"Timestep\", y=\"value\", hue=\"Stock price\",linewidth=1,data=training_melt_df).set(ylabel='Stock price')"
      ],
      "execution_count": null,
      "outputs": []
    },
    {
      "cell_type": "code",
      "metadata": {
        "id": "3C0Z1Bb6cdJO"
      },
      "source": [
        "train = train.drop(columns=['Timestep','Volume'])"
      ],
      "execution_count": null,
      "outputs": []
    },
    {
      "cell_type": "code",
      "metadata": {
        "id": "ef5oGSeDlDcX"
      },
      "source": [
        "test = test.drop(columns=['Volume'])"
      ],
      "execution_count": null,
      "outputs": []
    },
    {
      "cell_type": "code",
      "metadata": {
        "id": "cNCrW3OarV6N"
      },
      "source": [
        "# Min max scaling\n",
        "\n",
        "# Open Price\n",
        "open_minimum, maximum_open = train['Open'].min(), train['Open'].max()\n",
        "train['Open'] = (train['Open'] - open_minimum) / (maximum_open - open_minimum)\n",
        "\n",
        "# Low Price\n",
        "minimum_low, maximum_low = train['Low'].min(), train['Low'].max()\n",
        "train['Low'] = (train['Low'] - minimum_low) / (maximum_low - minimum_low)\n",
        "\n",
        "# High Price\n",
        "minimum_high, maximum_high = train['High'].min(), train['High'].max()\n",
        "train['High'] = (train['High'] - minimum_high) / (maximum_high - minimum_high)\n",
        "\n",
        "# Close Price\n",
        "minimum_close, maximum_close = train['Close'].min(), train['Close'].max()\n",
        "train['Close'] = (train['Close'] - minimum_close) / (maximum_close - minimum_close)\n"
      ],
      "execution_count": null,
      "outputs": []
    },
    {
      "cell_type": "code",
      "metadata": {
        "id": "t3ZagHjHrV9x"
      },
      "source": [
        "# The test data will be rescaled with the same coefficient as the train data, as we are not seeing it yet\n",
        "test['Open'] = (test['Open'] - open_minimum) / (maximum_open - open_minimum)\n",
        "test['Low'] = (test['Low'] - minimum_low) / (maximum_low - minimum_low)\n",
        "test['High'] = (test['High'] - minimum_high) / (maximum_high - minimum_high)\n",
        "test['Close'] = (test['Close'] - minimum_close) / (maximum_close - minimum_close)\n"
      ],
      "execution_count": null,
      "outputs": []
    },
    {
      "cell_type": "code",
      "metadata": {
        "id": "DaBIAKYWKvPQ"
      },
      "source": [
        "'''\n",
        "cols = list(train)[0:4]\n",
        "print(cols)\n",
        "# Feature Scaling\n",
        "from sklearn.preprocessing import MinMaxScaler\n",
        "\n",
        "f_transformer = MinMaxScaler()\n",
        "train.loc[:, cols] = f_transformer.fit_transform(train[cols].to_numpy())\n",
        "test.loc[:, cols] = f_transformer.transform(test[cols].to_numpy())\n",
        "\n",
        "open_transformer =MinMaxScaler()\n",
        "train['Open'] = open_transformer.fit_transform(train[['Open']])\n",
        "test['Open'] = open_transformer.transform(test[['Open']])\n",
        "'''"
      ],
      "execution_count": null,
      "outputs": []
    },
    {
      "cell_type": "code",
      "metadata": {
        "id": "1x8K8yviPH8E"
      },
      "source": [
        ""
      ],
      "execution_count": null,
      "outputs": []
    },
    {
      "cell_type": "code",
      "metadata": {
        "id": "6nmzCH69QArV"
      },
      "source": [
        "def create_dataset(X, y, time_steps=1):\n",
        "    Xs, ys = [], []\n",
        "    for i in range(len(X) - time_steps):\n",
        "        v = X.iloc[i:(i + time_steps)].values\n",
        "        Xs.append(v)        \n",
        "        ys.append(y.iloc[i + time_steps])\n",
        "    return np.array(Xs), np.array(ys)"
      ],
      "execution_count": null,
      "outputs": []
    },
    {
      "cell_type": "code",
      "metadata": {
        "id": "-TOKH_5Ronl0"
      },
      "source": [
        ""
      ],
      "execution_count": null,
      "outputs": []
    },
    {
      "cell_type": "code",
      "metadata": {
        "id": "9KEz4NnJonsG"
      },
      "source": [
        "# Append the train and test data\n",
        "train_test =  train.append(test)\n",
        "#train_test = np.append(train, test, axis = None)\n",
        "train_test"
      ],
      "execution_count": null,
      "outputs": []
    },
    {
      "cell_type": "code",
      "metadata": {
        "id": "3g4qmTPBognJ"
      },
      "source": [
        "\n",
        "data = train_test[['Open','High','Low','Close']].values\n",
        "window_size = 40\n",
        "# Empty list were we will store the result\n",
        "data_window = []\n",
        "\n",
        "n = len(data)\n",
        "\n",
        "# create all possible sequences of length seq_len\n",
        "for index in range(0, n - window_size): \n",
        "    data_window.append(data[index:(index + window_size + 1),:])\n",
        "\n",
        "data_window  = np.array(data_window)\n",
        "\n",
        "x_full = data_window[:,:-1,:]\n",
        "y_full = data_window[:,-1,:]\n"
      ],
      "execution_count": null,
      "outputs": []
    },
    {
      "cell_type": "code",
      "metadata": {
        "id": "GRPWlxI2ogj0"
      },
      "source": [
        "# Splitting into train, validation and test data\n",
        "x_train = x_full[:(len(train) - 40 - len(test)),:,:]\n",
        "y_train = y_full[:(len(train) - 40 - len(test)),:]\n",
        "\n",
        "x_val = x_full[(len(train) - 40 - len(test)):(len(test) - 40),:,:]\n",
        "y_val = y_full[(len(train) - 40 - len(test)):(len(test) - 40),:]\n",
        "\n",
        "x_test = x_full[(len(train) - 40):,:,:]\n",
        "y_test = y_full[(len(train) - 40):,:]"
      ],
      "execution_count": null,
      "outputs": []
    },
    {
      "cell_type": "code",
      "metadata": {
        "id": "F0iU4j7ro7m2"
      },
      "source": [
        "print(x_train.shape, y_train.shape, x_val.shape, y_val.shape, x_test.shape, y_test.shape)"
      ],
      "execution_count": null,
      "outputs": []
    },
    {
      "cell_type": "code",
      "metadata": {
        "id": "-9s8I7GAo7uA"
      },
      "source": [
        "X_train, y_train,X_val,Y_val,X_test,y_test = np.array(x_train), np.array(y_train),np.array(x_val), np.array(y_val),np.array(x_test), np.array(y_test)"
      ],
      "execution_count": null,
      "outputs": []
    },
    {
      "cell_type": "code",
      "metadata": {
        "id": "BcdEMWZ5QlAC"
      },
      "source": [
        "'''\n",
        "time_steps = 1\n",
        "\n",
        "# reshape to [samples, time_steps, n_features]\n",
        "\n",
        "X_train, y_train = create_dataset(train, train['Open'], time_steps)\n",
        "X_test, y_test = create_dataset(test, test['Open'], time_steps)\n",
        "\n",
        "print(X_train.shape, y_train.shape)\n",
        "'''"
      ],
      "execution_count": null,
      "outputs": []
    },
    {
      "cell_type": "code",
      "metadata": {
        "id": "W3Rn5R5NR0Ne"
      },
      "source": [
        "lr = 1e-3\n",
        "n_outputs = y_train.shape[1]\n",
        "model = keras.Sequential()\n",
        "model.add(\n",
        "  keras.layers.Bidirectional(\n",
        "    keras.layers.LSTM(\n",
        "      units=64, \n",
        "      input_shape=(X_train.shape[1], X_train.shape[2])\n",
        "    )\n",
        "  )\n",
        ")\n",
        "model.add(keras.layers.Dropout(rate=0.2))\n",
        "model.add(keras.layers.Dense(n_outputs, activation='linear'))\n",
        "model.compile(loss='mean_squared_error', optimizer='adam')"
      ],
      "execution_count": null,
      "outputs": []
    },
    {
      "cell_type": "code",
      "metadata": {
        "id": "Fc91if46R0VM"
      },
      "source": [
        "history = model.fit(\n",
        "    X_train, y_train, \n",
        "    epochs=1000, \n",
        "    batch_size=32,\n",
        "    validation_data = (X_val, Y_val),\n",
        "    shuffle=False\n",
        ")"
      ],
      "execution_count": null,
      "outputs": []
    },
    {
      "cell_type": "code",
      "metadata": {
        "id": "Xxsp8D6jR0ST"
      },
      "source": [
        "plt.plot(history.history['loss'], label='train')\n",
        "plt.plot(history.history['val_loss'], label='validation')\n",
        "plt.legend();"
      ],
      "execution_count": null,
      "outputs": []
    },
    {
      "cell_type": "code",
      "metadata": {
        "id": "vuXov41LR0Gq"
      },
      "source": [
        "y_pred = model.predict(X_test)"
      ],
      "execution_count": null,
      "outputs": []
    },
    {
      "cell_type": "code",
      "metadata": {
        "id": "tckHt1l2ydEw"
      },
      "source": [
        "test_original = test_data.iloc[0:len(test_data)]"
      ],
      "execution_count": null,
      "outputs": []
    },
    {
      "cell_type": "code",
      "metadata": {
        "id": "DdvC5qJErqF_"
      },
      "source": [
        "predicted_df = pd.DataFrame(y_pred,columns=['Predicted_Open','Predicted_High','Predicted_Low','Predicted_Close'])\n"
      ],
      "execution_count": null,
      "outputs": []
    },
    {
      "cell_type": "code",
      "metadata": {
        "id": "AUA-gfCOrMzu"
      },
      "source": [
        "# Get the original prices in the predicted dataset\n",
        "predicted_df['Predicted_Open'] = (predicted_df['Predicted_Open'] * (maximum_open-open_minimum)) + open_minimum\n",
        "predicted_df['Predicted_High'] = (predicted_df['Predicted_High'] * (maximum_high-minimum_high)) + minimum_high\n",
        "predicted_df['Predicted_Low'] = (predicted_df['Predicted_Low'] * (maximum_low-minimum_low)) + minimum_low\n",
        "predicted_df['Predicted_Close'] = (predicted_df['Predicted_Close'] * (maximum_close-minimum_close)) + minimum_close"
      ],
      "execution_count": null,
      "outputs": []
    },
    {
      "cell_type": "code",
      "metadata": {
        "id": "_iDXjh4ssa0r"
      },
      "source": [
        "predicted_df['Timestep'] = np.arange(start = 1, stop = len(predicted_df) + 1 , step = 1 )\n",
        "predicted_df['Open'] = test_original['Open'].astype(float)\n",
        "test_original = test_original.set_index(predicted_df.index)\n",
        "predicted_df['Open'] = test_original.iloc[:,0].values"
      ],
      "execution_count": null,
      "outputs": []
    },
    {
      "cell_type": "code",
      "metadata": {
        "id": "6LxJ9QKB4bxE"
      },
      "source": [
        "predicted_df"
      ],
      "execution_count": null,
      "outputs": []
    },
    {
      "cell_type": "code",
      "metadata": {
        "id": "mGdvLnvi4i4Y"
      },
      "source": [
        "# Melt the data to have all the prices\n",
        "predicted_df_melt = pd.melt(predicted_df[['Timestep','Open','Predicted_Open']],id_vars= ['Timestep'],value_vars=['Open','Predicted_Open'])\n",
        "predicted_df_melt = predicted_df_melt.rename(columns = {'variable':'Stock price'})\n",
        "\n",
        "#lineplot with the prices\n",
        "ax1 = sns.lineplot(x=\"Timestep\", y=\"value\", hue=\"Stock price\",linewidth=1,data=predicted_df_melt).set(ylabel='Stock price')"
      ],
      "execution_count": null,
      "outputs": []
    },
    {
      "cell_type": "code",
      "metadata": {
        "id": "X7Uex1O5SJze"
      },
      "source": [
        "# Calculation of the root mean squared error\n",
        "def rmse(y_true, y_pred):\n",
        "    return np.sqrt(((y_pred - y_true) ** 2).mean())"
      ],
      "execution_count": null,
      "outputs": []
    },
    {
      "cell_type": "code",
      "metadata": {
        "id": "p1Q4kQO3SJwo"
      },
      "source": [
        "rootMeanSquareError = rmse(test_original['Open'],predicted_df['Predicted_Open'])\n",
        "print('RMSE = {}'.format(rootMeanSquareError))"
      ],
      "execution_count": null,
      "outputs": []
    },
    {
      "cell_type": "code",
      "metadata": {
        "id": "YV3MLHG4SJjd"
      },
      "source": [
        ""
      ],
      "execution_count": null,
      "outputs": []
    },
    {
      "cell_type": "code",
      "metadata": {
        "id": "tBZZEyLXSJgi"
      },
      "source": [
        ""
      ],
      "execution_count": null,
      "outputs": []
    }
  ]
}